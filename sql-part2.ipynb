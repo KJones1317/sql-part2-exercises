{
    "metadata": {
        "kernelspec": {
            "name": "SQL",
            "display_name": "SQL",
            "language": "sql"
        },
        "language_info": {
            "name": "sql",
            "version": ""
        }
    },
    "nbformat_minor": 2,
    "nbformat": 4,
    "cells": [
        {
            "cell_type": "markdown",
            "source": [
                "# Exercises\n",
                "\n",
                "To get started with the exercises, go ahead and take a look at RideShareDB. This database was created with data from a dataset on [Kaggle](https://www.kaggle.com/fivethirtyeight/uber-pickups-in-new-york-city). The dataset was made using data obtained from the NYC Taxi and Limosine Commission or TLC. TLC tracks this data by base and even rideshare companies such as Uber and Lyft have assigned bases that each pickup must be attributed to. For the exercises, we will be using the `other-FHV-services-jan-july15` and `lyft` tables in RideShareDB. These tables include the data for each pickup attributed to a few other For-Hire Vehicles (FHV) services and Lyft. These tables do not include any data from Uber.\n",
                "\n",
                "## String Functions\n",
                "\n",
                "Write a query that returns the last 3 characters of the base name in `other-FHV-services-jan-july15`. Do you see anything that is a common abbreviation at the end of business names?"
            ],
            "metadata": {
                "azdata_cell_guid": "2b5a5976-8b51-4e24-a08d-234ef97f379a"
            },
            "attachments": {}
        },
        {
            "cell_type": "code",
            "source": [
                "-- I chose to display the last 4 items since soem of the items have a \".\" at the end of \"INC\"\r\n",
                "\r\n",
                "SELECT TOP 10 RIGHT (\"Base_Name\", 4 )\r\n",
                "FROM RideShareDB.dbo.other_FHV_services_jan_aug_2015"
            ],
            "metadata": {
                "azdata_cell_guid": "392f7b72-9acf-44a4-bb53-6c29090c5d75",
                "tags": [],
                "language": "sql"
            },
            "outputs": [
                {
                    "output_type": "display_data",
                    "data": {
                        "text/html": "(10 rows affected)"
                    },
                    "metadata": {}
                },
                {
                    "output_type": "display_data",
                    "data": {
                        "text/html": "Total execution time: 00:00:00.043"
                    },
                    "metadata": {}
                },
                {
                    "output_type": "execute_result",
                    "metadata": {},
                    "execution_count": 3,
                    "data": {
                        "application/vnd.dataresource+json": {
                            "schema": {
                                "fields": [
                                    {
                                        "name": "(No column name)"
                                    }
                                ]
                            },
                            "data": [
                                {
                                    "0": " INC"
                                },
                                {
                                    "0": " INC"
                                },
                                {
                                    "0": "CORP"
                                },
                                {
                                    "0": " INC"
                                },
                                {
                                    "0": "INC."
                                },
                                {
                                    "0": " INC"
                                },
                                {
                                    "0": "INC."
                                },
                                {
                                    "0": "INC."
                                },
                                {
                                    "0": "ADIO"
                                },
                                {
                                    "0": "ORP."
                                }
                            ]
                        },
                        "text/html": [
                            "<table>",
                            "<tr><th>(No column name)</th></tr>",
                            "<tr><td> INC</td></tr>",
                            "<tr><td> INC</td></tr>",
                            "<tr><td>CORP</td></tr>",
                            "<tr><td> INC</td></tr>",
                            "<tr><td>INC.</td></tr>",
                            "<tr><td> INC</td></tr>",
                            "<tr><td>INC.</td></tr>",
                            "<tr><td>INC.</td></tr>",
                            "<tr><td>ADIO</td></tr>",
                            "<tr><td>ORP.</td></tr>",
                            "</table>"
                        ]
                    }
                }
            ],
            "execution_count": 3
        },
        {
            "cell_type": "markdown",
            "source": [
                "The number of trips and the number of pickups are both stored as strings in `other-FHV-services-jan-july15`. This is because the data provided included spaces in some of the numbers. Write a query that returns the location of spaces in both of these columns."
            ],
            "metadata": {
                "azdata_cell_guid": "6c206898-77f4-4357-8d17-33192980f45d"
            },
            "attachments": {}
        },
        {
            "cell_type": "code",
            "source": [
                "--There is not a column named 'number of pickups' in 'other_FHV_services_jan_aug_2015'\r\n",
                "\r\n",
                "SELECT TOP 10 CHARINDEX(' ',Number_of_Trips)\r\n",
                "FROM RideShareDB.dbo.other_FHV_services_jan_aug_2015;"
            ],
            "metadata": {
                "azdata_cell_guid": "3c810c3d-4e66-447b-8326-19e59d8a1b88",
                "language": "sql"
            },
            "outputs": [
                {
                    "output_type": "display_data",
                    "data": {
                        "text/html": "(10 rows affected)"
                    },
                    "metadata": {}
                },
                {
                    "output_type": "display_data",
                    "data": {
                        "text/html": "Total execution time: 00:00:00.061"
                    },
                    "metadata": {}
                },
                {
                    "output_type": "execute_result",
                    "metadata": {},
                    "execution_count": 4,
                    "data": {
                        "application/vnd.dataresource+json": {
                            "schema": {
                                "fields": [
                                    {
                                        "name": "(No column name)"
                                    }
                                ]
                            },
                            "data": [
                                {
                                    "0": "3"
                                },
                                {
                                    "0": "3"
                                },
                                {
                                    "0": "4"
                                },
                                {
                                    "0": "3"
                                },
                                {
                                    "0": "4"
                                },
                                {
                                    "0": "4"
                                },
                                {
                                    "0": "3"
                                },
                                {
                                    "0": "1"
                                },
                                {
                                    "0": "4"
                                },
                                {
                                    "0": "3"
                                }
                            ]
                        },
                        "text/html": [
                            "<table>",
                            "<tr><th>(No column name)</th></tr>",
                            "<tr><td>3</td></tr>",
                            "<tr><td>3</td></tr>",
                            "<tr><td>4</td></tr>",
                            "<tr><td>3</td></tr>",
                            "<tr><td>4</td></tr>",
                            "<tr><td>4</td></tr>",
                            "<tr><td>3</td></tr>",
                            "<tr><td>1</td></tr>",
                            "<tr><td>4</td></tr>",
                            "<tr><td>3</td></tr>",
                            "</table>"
                        ]
                    }
                }
            ],
            "execution_count": 4
        },
        {
            "cell_type": "markdown",
            "source": [
                "## Date Functions\n",
                "\n",
                "For ``other-FHV-services-jan-july15``, display the name of month of the pickup date and order in descending order. Is the result of this query what you expected?"
            ],
            "metadata": {
                "azdata_cell_guid": "b138ac53-9fff-4320-9ff1-08717873f2ee"
            },
            "attachments": {}
        },
        {
            "cell_type": "code",
            "source": [
                "USE RideShareDB\r\n",
                "SELECT TOP 10 \r\n",
                "DATENAME(MONTH, Pick_Up_Date) as Month\r\n",
                "FROM other_FHV_services_jan_aug_2015\r\n",
                "ORDER BY Pick_Up_Date DESC;\r\n",
                "\r\n",
                "-- SELECT TOP 10 \r\n",
                "-- DATEPART(MONTH, 'Pick_Up_Date') as Month\r\n",
                "-- FROM RideShareDB.dbo.other_FHV_services_jan_aug_2015;\r\n",
                "-- ORDER BY Pick_Up_Date DESC"
            ],
            "metadata": {
                "azdata_cell_guid": "8abd404c-a360-4b10-8d6b-8b34ef763bc7",
                "tags": [],
                "language": "sql"
            },
            "outputs": [
                {
                    "output_type": "display_data",
                    "data": {
                        "text/html": "(10 rows affected)"
                    },
                    "metadata": {}
                },
                {
                    "output_type": "display_data",
                    "data": {
                        "text/html": "Total execution time: 00:00:00.044"
                    },
                    "metadata": {}
                },
                {
                    "output_type": "execute_result",
                    "metadata": {},
                    "execution_count": 18,
                    "data": {
                        "application/vnd.dataresource+json": {
                            "schema": {
                                "fields": [
                                    {
                                        "name": "Month"
                                    }
                                ]
                            },
                            "data": [
                                {
                                    "0": "August"
                                },
                                {
                                    "0": "August"
                                },
                                {
                                    "0": "August"
                                },
                                {
                                    "0": "August"
                                },
                                {
                                    "0": "August"
                                },
                                {
                                    "0": "August"
                                },
                                {
                                    "0": "August"
                                },
                                {
                                    "0": "August"
                                },
                                {
                                    "0": "August"
                                },
                                {
                                    "0": "August"
                                }
                            ]
                        },
                        "text/html": [
                            "<table>",
                            "<tr><th>Month</th></tr>",
                            "<tr><td>August</td></tr>",
                            "<tr><td>August</td></tr>",
                            "<tr><td>August</td></tr>",
                            "<tr><td>August</td></tr>",
                            "<tr><td>August</td></tr>",
                            "<tr><td>August</td></tr>",
                            "<tr><td>August</td></tr>",
                            "<tr><td>August</td></tr>",
                            "<tr><td>August</td></tr>",
                            "<tr><td>August</td></tr>",
                            "</table>"
                        ]
                    }
                }
            ],
            "execution_count": 18
        },
        {
            "cell_type": "markdown",
            "source": [
                "Using `other-FHV-services-jan-july15`, write a query that returns the day number of the pickup date and month name and orders it in ascending order by day number."
            ],
            "metadata": {
                "azdata_cell_guid": "aa6bf15c-b847-45f0-ba0d-79c7636c4578"
            },
            "attachments": {}
        },
        {
            "cell_type": "code",
            "source": [
                "SELECT TOP 10\r\n",
                "DATEPART(DAY, Pick_Up_Date) AS Day,\r\n",
                "DATENAME(MONTH, Pick_Up_Date) AS Month\r\n",
                "FROM other_FHV_services_jan_aug_2015\r\n",
                "ORDER BY [day] ASC;\r\n",
                ""
            ],
            "metadata": {
                "azdata_cell_guid": "46dcd617-8dcf-4c15-b5fa-c0ec04f2bf29",
                "language": "sql"
            },
            "outputs": [
                {
                    "output_type": "display_data",
                    "data": {
                        "text/html": "(10 rows affected)"
                    },
                    "metadata": {}
                },
                {
                    "output_type": "display_data",
                    "data": {
                        "text/html": "Total execution time: 00:00:00.050"
                    },
                    "metadata": {}
                },
                {
                    "output_type": "execute_result",
                    "metadata": {},
                    "execution_count": 19,
                    "data": {
                        "application/vnd.dataresource+json": {
                            "schema": {
                                "fields": [
                                    {
                                        "name": "Day"
                                    },
                                    {
                                        "name": "Month"
                                    }
                                ]
                            },
                            "data": [
                                {
                                    "0": "1",
                                    "1": "January"
                                },
                                {
                                    "0": "1",
                                    "1": "January"
                                },
                                {
                                    "0": "1",
                                    "1": "January"
                                },
                                {
                                    "0": "1",
                                    "1": "January"
                                },
                                {
                                    "0": "1",
                                    "1": "January"
                                },
                                {
                                    "0": "1",
                                    "1": "January"
                                },
                                {
                                    "0": "1",
                                    "1": "January"
                                },
                                {
                                    "0": "1",
                                    "1": "January"
                                },
                                {
                                    "0": "1",
                                    "1": "January"
                                },
                                {
                                    "0": "1",
                                    "1": "January"
                                }
                            ]
                        },
                        "text/html": [
                            "<table>",
                            "<tr><th>Day</th><th>Month</th></tr>",
                            "<tr><td>1</td><td>January</td></tr>",
                            "<tr><td>1</td><td>January</td></tr>",
                            "<tr><td>1</td><td>January</td></tr>",
                            "<tr><td>1</td><td>January</td></tr>",
                            "<tr><td>1</td><td>January</td></tr>",
                            "<tr><td>1</td><td>January</td></tr>",
                            "<tr><td>1</td><td>January</td></tr>",
                            "<tr><td>1</td><td>January</td></tr>",
                            "<tr><td>1</td><td>January</td></tr>",
                            "<tr><td>1</td><td>January</td></tr>",
                            "</table>"
                        ]
                    }
                }
            ],
            "execution_count": 19
        },
        {
            "cell_type": "markdown",
            "source": [
                "## Aggregate Functions\n",
                "\n",
                "Write a query that returns the most easterly Lyft pickup."
            ],
            "metadata": {
                "azdata_cell_guid": "348342a2-6039-43b1-8461-841288deee94"
            },
            "attachments": {}
        },
        {
            "cell_type": "code",
            "source": [
                "USE RideShareDB\r\n",
                "SELECT TOP 5 * FROM lyft\r\n",
                "\r\n",
                "USE RideShareDB\r\n",
                "SELECT MIN (start_lng) as 'Farthest East Ride'\r\n",
                "FROM lyft"
            ],
            "metadata": {
                "azdata_cell_guid": "f2cb1b41-c92a-47ea-bd77-7bafd78af1d4",
                "tags": [],
                "language": "sql"
            },
            "outputs": [
                {
                    "output_type": "display_data",
                    "data": {
                        "text/html": "(5 rows affected)"
                    },
                    "metadata": {}
                },
                {
                    "output_type": "display_data",
                    "data": {
                        "text/html": "Warning: Null value is eliminated by an aggregate or other SET operation."
                    },
                    "metadata": {}
                },
                {
                    "output_type": "display_data",
                    "data": {
                        "text/html": "(1 row affected)"
                    },
                    "metadata": {}
                },
                {
                    "output_type": "display_data",
                    "data": {
                        "text/html": "Total execution time: 00:00:00.085"
                    },
                    "metadata": {}
                },
                {
                    "output_type": "execute_result",
                    "metadata": {},
                    "execution_count": 30,
                    "data": {
                        "application/vnd.dataresource+json": {
                            "schema": {
                                "fields": [
                                    {
                                        "name": "time_of_trip"
                                    },
                                    {
                                        "name": "start_lat"
                                    },
                                    {
                                        "name": "start_lng"
                                    }
                                ]
                            },
                            "data": [
                                {
                                    "0": "2014-09-04 09:51:00.0000000",
                                    "1": "40.64705",
                                    "2": "-73.77988"
                                },
                                {
                                    "0": "2014-08-27 21:13:00.0000000",
                                    "1": "40.74916",
                                    "2": "-73.98373"
                                },
                                {
                                    "0": "2014-09-04 14:16:00.0000000",
                                    "1": "40.64065",
                                    "2": "-73.97594"
                                },
                                {
                                    "0": "2014-09-04 16:08:00.0000000",
                                    "1": "40.75002",
                                    "2": "-73.99514"
                                },
                                {
                                    "0": "2014-08-28 02:41:00.0000000",
                                    "1": "40.76715",
                                    "2": "-73.98636"
                                }
                            ]
                        },
                        "text/html": [
                            "<table>",
                            "<tr><th>time_of_trip</th><th>start_lat</th><th>start_lng</th></tr>",
                            "<tr><td>2014-09-04 09:51:00.0000000</td><td>40.64705</td><td>-73.77988</td></tr>",
                            "<tr><td>2014-08-27 21:13:00.0000000</td><td>40.74916</td><td>-73.98373</td></tr>",
                            "<tr><td>2014-09-04 14:16:00.0000000</td><td>40.64065</td><td>-73.97594</td></tr>",
                            "<tr><td>2014-09-04 16:08:00.0000000</td><td>40.75002</td><td>-73.99514</td></tr>",
                            "<tr><td>2014-08-28 02:41:00.0000000</td><td>40.76715</td><td>-73.98636</td></tr>",
                            "</table>"
                        ]
                    }
                },
                {
                    "output_type": "execute_result",
                    "metadata": {},
                    "execution_count": 30,
                    "data": {
                        "application/vnd.dataresource+json": {
                            "schema": {
                                "fields": [
                                    {
                                        "name": "Farthest East Ride"
                                    }
                                ]
                            },
                            "data": [
                                {
                                    "0": "-74.22689"
                                }
                            ]
                        },
                        "text/html": [
                            "<table>",
                            "<tr><th>Farthest East Ride</th></tr>",
                            "<tr><td>-74.22689</td></tr>",
                            "</table>"
                        ]
                    }
                }
            ],
            "execution_count": 30
        },
        {
            "cell_type": "markdown",
            "source": [
                "Write a query the returns the most northerly Lyft pickup."
            ],
            "metadata": {
                "azdata_cell_guid": "bd589862-044d-4909-8565-8aa4771d9c00"
            },
            "attachments": {}
        },
        {
            "cell_type": "code",
            "source": [
                "USE RideShareDB\r\n",
                "SELECT MAX (start_lat) as 'Farthest North Ride'\r\n",
                "FROM lyft"
            ],
            "metadata": {
                "azdata_cell_guid": "189b7c25-0dfa-4ca0-a683-d402b3875abd",
                "language": "sql"
            },
            "outputs": [
                {
                    "output_type": "display_data",
                    "data": {
                        "text/html": "Warning: Null value is eliminated by an aggregate or other SET operation."
                    },
                    "metadata": {}
                },
                {
                    "output_type": "display_data",
                    "data": {
                        "text/html": "(1 row affected)"
                    },
                    "metadata": {}
                },
                {
                    "output_type": "display_data",
                    "data": {
                        "text/html": "Total execution time: 00:00:00.067"
                    },
                    "metadata": {}
                },
                {
                    "output_type": "execute_result",
                    "metadata": {},
                    "execution_count": 32,
                    "data": {
                        "application/vnd.dataresource+json": {
                            "schema": {
                                "fields": [
                                    {
                                        "name": "Farthest North Ride"
                                    }
                                ]
                            },
                            "data": [
                                {
                                    "0": "40.93562"
                                }
                            ]
                        },
                        "text/html": [
                            "<table>",
                            "<tr><th>Farthest North Ride</th></tr>",
                            "<tr><td>40.93562</td></tr>",
                            "</table>"
                        ]
                    }
                }
            ],
            "execution_count": 32
        },
        {
            "cell_type": "markdown",
            "source": [
                "Using ``other-FHV-services-jan-july15``, write a query that connects the the base number and the base name in a string that uses the following format: base\\_number: base\\_name."
            ],
            "metadata": {
                "azdata_cell_guid": "674f8758-14bf-4712-b029-0ad0447617fb"
            },
            "attachments": {}
        },
        {
            "cell_type": "code",
            "source": [
                "SELECT TOP 10\r\n",
                "CONCAT (Base_Number,' : ',Base_Name ) AS 'Base_Number:Base_Name'\r\n",
                "FROM other_FHV_services_jan_aug_2015"
            ],
            "metadata": {
                "azdata_cell_guid": "f6f4b247-63c0-4997-8769-204e37a55c08",
                "language": "sql"
            },
            "outputs": [
                {
                    "output_type": "display_data",
                    "data": {
                        "text/html": "(10 rows affected)"
                    },
                    "metadata": {}
                },
                {
                    "output_type": "display_data",
                    "data": {
                        "text/html": "Total execution time: 00:00:00.045"
                    },
                    "metadata": {}
                },
                {
                    "output_type": "execute_result",
                    "metadata": {},
                    "execution_count": 33,
                    "data": {
                        "application/vnd.dataresource+json": {
                            "schema": {
                                "fields": [
                                    {
                                        "name": "Base_Number:Base_Name"
                                    }
                                ]
                            },
                            "data": [
                                {
                                    "0": "B00013 : LOVE CORP CAR INC"
                                },
                                {
                                    "0": "B00014 : NY ONE CORP CAR INC"
                                },
                                {
                                    "0": "B00029 : COMMUNITY CAR SVC CORP"
                                },
                                {
                                    "0": "B00053 : CHARGE AND RIDE INC"
                                },
                                {
                                    "0": "B00095 : LIBERTY CAR SERVICE INC."
                                },
                                {
                                    "0": "B00221 : PROFESSIONAL CAR SERVICE INC"
                                },
                                {
                                    "0": "B00227 : PARK WEST EXEC. SERVICES, INC."
                                },
                                {
                                    "0": "B00248 : YELLOWSTONE TRANSPORTATION INC."
                                },
                                {
                                    "0": "B00254 : XYZ TWO WAY RADIO"
                                },
                                {
                                    "0": "B00280 : FLEET RADIO DISPATCH CORP."
                                }
                            ]
                        },
                        "text/html": [
                            "<table>",
                            "<tr><th>Base_Number:Base_Name</th></tr>",
                            "<tr><td>B00013 : LOVE CORP CAR INC</td></tr>",
                            "<tr><td>B00014 : NY ONE CORP CAR INC</td></tr>",
                            "<tr><td>B00029 : COMMUNITY CAR SVC CORP</td></tr>",
                            "<tr><td>B00053 : CHARGE AND RIDE INC</td></tr>",
                            "<tr><td>B00095 : LIBERTY CAR SERVICE INC.</td></tr>",
                            "<tr><td>B00221 : PROFESSIONAL CAR SERVICE INC</td></tr>",
                            "<tr><td>B00227 : PARK WEST EXEC. SERVICES, INC.</td></tr>",
                            "<tr><td>B00248 : YELLOWSTONE TRANSPORTATION INC.</td></tr>",
                            "<tr><td>B00254 : XYZ TWO WAY RADIO</td></tr>",
                            "<tr><td>B00280 : FLEET RADIO DISPATCH CORP.</td></tr>",
                            "</table>"
                        ]
                    }
                }
            ],
            "execution_count": 33
        }
    ]
}